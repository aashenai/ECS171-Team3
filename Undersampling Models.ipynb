{
 "cells": [
  {
   "cell_type": "code",
   "execution_count": 1,
   "metadata": {},
   "outputs": [],
   "source": [
    "import pandas as pd\n",
    "from sklearn.model_selection import train_test_split\n",
    "from sklearn.preprocessing import OneHotEncoder\n",
    "from imblearn.ensemble import BalancedRandomForestClassifier, EasyEnsembleClassifier, BalancedBaggingClassifier\n",
    "from sklearn.metrics import classification_report, confusion_matrix, roc_auc_score"
   ]
  },
  {
   "cell_type": "code",
   "execution_count": 2,
   "metadata": {},
   "outputs": [],
   "source": [
    "df = pd.read_csv('./data.csv', header=0, index_col=0)"
   ]
  },
  {
   "cell_type": "code",
   "execution_count": 3,
   "metadata": {},
   "outputs": [],
   "source": [
    "enc = OneHotEncoder(handle_unknown='ignore')\n",
    "tmp = pd.DataFrame(enc.fit_transform(df[['NAME_INCOME_TYPE', 'NAME_EDUCATION_TYPE', 'NAME_FAMILY_STATUS', \n",
    "                                         'NAME_HOUSING_TYPE']]).toarray())\n",
    "tmp.columns = enc.get_feature_names(['NAME_INCOME_TYPE', 'NAME_EDUCATION_TYPE', 'NAME_FAMILY_STATUS', \n",
    "                                     'NAME_HOUSING_TYPE'])\n",
    "tmp = tmp.set_index(df.index)\n",
    "df = df.replace(['Y', 'F'], 1)\n",
    "df = df.replace(['N', 'M'], 0)\n",
    "df = df.join(tmp)\n",
    "\n",
    "df = df.drop(columns=['OCCUPATION_TYPE', 'NAME_INCOME_TYPE', 'NAME_EDUCATION_TYPE', 'NAME_FAMILY_STATUS', \n",
    "                      'NAME_HOUSING_TYPE'])"
   ]
  },
  {
   "cell_type": "code",
   "execution_count": 4,
   "metadata": {},
   "outputs": [],
   "source": [
    "x = df.drop(['score', 'score2'], axis=1)\n",
    "y = df['score2']\n",
    "\n",
    "train_x,test_x,train_y,test_y = train_test_split(x,y,test_size=0.3)"
   ]
  },
  {
   "cell_type": "code",
   "execution_count": 5,
   "metadata": {},
   "outputs": [
    {
     "name": "stdout",
     "output_type": "stream",
     "text": [
      "              precision    recall  f1-score   support\n",
      "\n",
      "           0       1.00      0.75      0.86     10838\n",
      "           1       0.03      0.69      0.05       100\n",
      "\n",
      "    accuracy                           0.75     10938\n",
      "   macro avg       0.51      0.72      0.45     10938\n",
      "weighted avg       0.99      0.75      0.85     10938\n",
      "\n"
     ]
    }
   ],
   "source": [
    "# documentation: https://imbalanced-learn.readthedocs.io/en/stable/generated/imblearn.ensemble.BalancedRandomForestClassifier.html\n",
    "clf = BalancedRandomForestClassifier(n_estimators=5000)\n",
    "clf.fit(train_x, train_y)\n",
    "pred_y = clf.predict(test_x)\n",
    "print(classification_report(test_y, pred_y))"
   ]
  },
  {
   "cell_type": "code",
   "execution_count": 6,
   "metadata": {},
   "outputs": [
    {
     "data": {
      "text/plain": [
       "0.7212225502860307"
      ]
     },
     "execution_count": 6,
     "metadata": {},
     "output_type": "execute_result"
    }
   ],
   "source": [
    "roc_auc_score(test_y, pred_y)"
   ]
  },
  {
   "cell_type": "code",
   "execution_count": 9,
   "metadata": {},
   "outputs": [
    {
     "name": "stdout",
     "output_type": "stream",
     "text": [
      "              precision    recall  f1-score   support\n",
      "\n",
      "           0       1.00      0.84      0.91     10838\n",
      "           1       0.03      0.57      0.06       100\n",
      "\n",
      "    accuracy                           0.84     10938\n",
      "   macro avg       0.51      0.71      0.49     10938\n",
      "weighted avg       0.99      0.84      0.90     10938\n",
      "\n"
     ]
    }
   ],
   "source": [
    "# documentation: https://imbalanced-learn.readthedocs.io/en/stable/generated/imblearn.ensemble.BalancedBaggingClassifier.html#imblearn.ensemble.BalancedBaggingClassifier\n",
    "# base estimator: Decision Tree\n",
    "clf3 = BalancedBaggingClassifier(n_estimators=5000)\n",
    "clf3.fit(train_x, train_y)\n",
    "pred3_y = clf3.predict(test_x)\n",
    "print(classification_report(test_y, pred3_y))"
   ]
  },
  {
   "cell_type": "code",
   "execution_count": 10,
   "metadata": {},
   "outputs": [
    {
     "data": {
      "text/plain": [
       "0.7053727625023066"
      ]
     },
     "execution_count": 10,
     "metadata": {},
     "output_type": "execute_result"
    }
   ],
   "source": [
    "roc_auc_score(test_y, pred3_y)"
   ]
  },
  {
   "cell_type": "code",
   "execution_count": 11,
   "metadata": {},
   "outputs": [
    {
     "name": "stdout",
     "output_type": "stream",
     "text": [
      "              precision    recall  f1-score   support\n",
      "\n",
      "           0       1.00      0.67      0.80     10838\n",
      "           1       0.02      0.67      0.04       100\n",
      "\n",
      "    accuracy                           0.67     10938\n",
      "   macro avg       0.51      0.67      0.42     10938\n",
      "weighted avg       0.99      0.67      0.79     10938\n",
      "\n"
     ]
    }
   ],
   "source": [
    "# documentation: https://imbalanced-learn.readthedocs.io/en/stable/generated/imblearn.ensemble.EasyEnsembleClassifier.html#imblearn.ensemble.EasyEnsembleClassifier\n",
    "# base estimator: AdaBoostClassifier\n",
    "clf2 = EasyEnsembleClassifier(n_estimators=100)\n",
    "clf2.fit(train_x, train_y)\n",
    "pred2_y = clf2.predict(test_x)\n",
    "print(classification_report(test_y, pred2_y))"
   ]
  },
  {
   "cell_type": "code",
   "execution_count": 12,
   "metadata": {},
   "outputs": [
    {
     "data": {
      "text/plain": [
       "0.6696097065879313"
      ]
     },
     "execution_count": 12,
     "metadata": {},
     "output_type": "execute_result"
    }
   ],
   "source": [
    "roc_auc_score(test_y, pred2_y)"
   ]
  },
  {
   "cell_type": "markdown",
   "metadata": {},
   "source": [
    "Setting n_estimators to different values between 100 and 5000, every run of the above classifiers produced an AUC score ranging from 0.66 to 0.79 but not higher than that. Different parameters were used, including setting max_depth to different values for RandomForest, but the score never surpasses what has been encountered already."
   ]
  }
 ],
 "metadata": {
  "kernelspec": {
   "display_name": "Python 3",
   "language": "python",
   "name": "python3"
  },
  "language_info": {
   "codemirror_mode": {
    "name": "ipython",
    "version": 3
   },
   "file_extension": ".py",
   "mimetype": "text/x-python",
   "name": "python",
   "nbconvert_exporter": "python",
   "pygments_lexer": "ipython3",
   "version": "3.8.3"
  }
 },
 "nbformat": 4,
 "nbformat_minor": 4
}
