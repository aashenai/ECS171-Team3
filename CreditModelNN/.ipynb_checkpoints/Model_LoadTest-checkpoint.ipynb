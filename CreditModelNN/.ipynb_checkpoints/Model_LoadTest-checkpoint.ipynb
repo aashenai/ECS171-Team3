{
 "cells": [
  {
   "cell_type": "code",
   "execution_count": 52,
   "metadata": {},
   "outputs": [],
   "source": [
    "#Load Model\n",
    "import pandas as pd\n",
    "from tensorflow import keras\n",
    "model = keras.models.load_model('CNN_100')"
   ]
  },
  {
   "cell_type": "code",
   "execution_count": 53,
   "metadata": {},
   "outputs": [],
   "source": [
    "df = pd.read_csv('../data_v2.csv')\n",
    "traindata = pd.read_csv('X.csv')\n",
    "traindata = traindata.drop(df.columns[0], 1)"
   ]
  },
  {
   "cell_type": "code",
   "execution_count": 54,
   "metadata": {},
   "outputs": [],
   "source": [
    "data = traindata.head(1).copy()"
   ]
  },
  {
   "cell_type": "code",
   "execution_count": 55,
   "metadata": {},
   "outputs": [],
   "source": [
    "def normalize(x, xmin, xmax):\n",
    "    return (x - xmin) / (xmax - xmin)\n",
    "\n",
    "def fit(data):\n",
    "    data['CNT_CHILDREN'] = normalize(data['CNT_CHILDREN'], min(0, data['CNT_CHILDREN'][0]), max(19, data['CNT_CHILDREN'][0]))\n",
    "    data['AMT_INCOME_TOTAL'] = normalize(data['AMT_INCOME_TOTAL'], min(26100, data['AMT_INCOME_TOTAL'][0]), max(6750000, data['AMT_INCOME_TOTAL'][0]))\n",
    "    data['DAYS_BIRTH'] = normalize(data['DAYS_BIRTH'][0], min(-12005, data['DAYS_BIRTH'][0]), max(-7489, data['DAYS_BIRTH'][0]))\n",
    "    data['DAYS_EMPLOYED'] = normalize(data['DAYS_EMPLOYED'][0], min(-17531, data['DAYS_EMPLOYED'][0]), max(365243, data['DAYS_EMPLOYED'][0]))\n",
    "    data['months'] = normalize(data['months'][0], min(1, data['months'][0]), max(6, data['months'][0]))\n",
    "    return data"
   ]
  },
  {
   "cell_type": "code",
   "execution_count": 60,
   "metadata": {},
   "outputs": [],
   "source": [
    "for col in data.columns:\n",
    "    data[col].values[:] = 0\n",
    "\n",
    "data['CODE_GENDER'] = 1\n",
    "data['FLAG_OWN_CAR'] = 1\n",
    "data['FLAG_OWN_REALTY'] = 0\n",
    "data['CNT_CHILDREN'] = 0\n",
    "data['AMT_INCOME_TOTAL'] = 70000\n",
    "data['DAYS_BIRTH'] = -9000\n",
    "data['DAYS_EMPLOYED'] = 100\n",
    "data['FLAG_WORK_PHONE'] = 1\n",
    "data['FLAG_PHONE'] = 1\n",
    "data['FLAG_EMAIL'] = 1\n",
    "data['months'] = 4\n",
    "data['Income_Student'] = 1\n",
    "data['Education_Academic degree'] = 1\n",
    "data['Housing_Rented apartment'] = 1\n",
    "data['Occupation_Cleaning staff'] = 1\n",
    "\n",
    "data = data.astype('float64')\n",
    "data = fit(data)"
   ]
  },
  {
   "cell_type": "code",
   "execution_count": 61,
   "metadata": {},
   "outputs": [
    {
     "data": {
      "text/plain": [
       "array([0])"
      ]
     },
     "execution_count": 61,
     "metadata": {},
     "output_type": "execute_result"
    }
   ],
   "source": [
    "model.predict_classes(data)[0]"
   ]
  },
  {
   "cell_type": "code",
   "execution_count": null,
   "metadata": {},
   "outputs": [],
   "source": []
  }
 ],
 "metadata": {
  "kernelspec": {
   "display_name": "Python 3",
   "language": "python",
   "name": "python3"
  },
  "language_info": {
   "codemirror_mode": {
    "name": "ipython",
    "version": 3
   },
   "file_extension": ".py",
   "mimetype": "text/x-python",
   "name": "python",
   "nbconvert_exporter": "python",
   "pygments_lexer": "ipython3",
   "version": "3.6.2"
  }
 },
 "nbformat": 4,
 "nbformat_minor": 4
}
